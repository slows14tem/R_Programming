{
 "cells": [
  {
   "cell_type": "code",
   "execution_count": 3,
   "metadata": {},
   "outputs": [],
   "source": [
    "# 필요한 패키지와 라이브러리를 가져옴\n",
    "import matplotlib as mpl\n",
    "import matplotlib.pyplot as plt\n",
    "import matplotlib.font_manager as fm\n",
    "mpl.rc('font',family='Malgun Gothic')   # 맑은 고딕으로 그래프한글설정\n",
    "\n",
    "# 그래프에서 마이너스 폰트 깨지는 문제에 대한 대처\n",
    "mpl.rcParams['axes.unicode_minus'] = False\n",
    "import seaborn as sns\n"
   ]
  },
  {
   "cell_type": "code",
   "execution_count": 2,
   "metadata": {},
   "outputs": [],
   "source": [
    "import pandas as pd"
   ]
  },
  {
   "cell_type": "code",
   "execution_count": 4,
   "metadata": {},
   "outputs": [
    {
     "data": {
      "text/html": [
       "<div>\n",
       "<style scoped>\n",
       "    .dataframe tbody tr th:only-of-type {\n",
       "        vertical-align: middle;\n",
       "    }\n",
       "\n",
       "    .dataframe tbody tr th {\n",
       "        vertical-align: top;\n",
       "    }\n",
       "\n",
       "    .dataframe thead th {\n",
       "        text-align: right;\n",
       "    }\n",
       "</style>\n",
       "<table border=\"1\" class=\"dataframe\">\n",
       "  <thead>\n",
       "    <tr style=\"text-align: right;\">\n",
       "      <th></th>\n",
       "      <th>24개 암종별</th>\n",
       "      <th>성별</th>\n",
       "      <th>연령별</th>\n",
       "      <th>2019</th>\n",
       "      <th>2019.1</th>\n",
       "    </tr>\n",
       "  </thead>\n",
       "  <tbody>\n",
       "    <tr>\n",
       "      <th>0</th>\n",
       "      <td>24개 암종별</td>\n",
       "      <td>성별</td>\n",
       "      <td>연령별</td>\n",
       "      <td>발생자수 (명)</td>\n",
       "      <td>조발생률 (명/10만명)</td>\n",
       "    </tr>\n",
       "    <tr>\n",
       "      <th>1</th>\n",
       "      <td>모든 암(C00-C96)</td>\n",
       "      <td>계</td>\n",
       "      <td>계</td>\n",
       "      <td>254718</td>\n",
       "      <td>496.2</td>\n",
       "    </tr>\n",
       "    <tr>\n",
       "      <th>2</th>\n",
       "      <td>모든 암(C00-C96)</td>\n",
       "      <td>계</td>\n",
       "      <td>0-4세</td>\n",
       "      <td>406</td>\n",
       "      <td>21.3</td>\n",
       "    </tr>\n",
       "    <tr>\n",
       "      <th>3</th>\n",
       "      <td>모든 암(C00-C96)</td>\n",
       "      <td>계</td>\n",
       "      <td>5-9세</td>\n",
       "      <td>220</td>\n",
       "      <td>9.5</td>\n",
       "    </tr>\n",
       "    <tr>\n",
       "      <th>4</th>\n",
       "      <td>모든 암(C00-C96)</td>\n",
       "      <td>계</td>\n",
       "      <td>10-14세</td>\n",
       "      <td>300</td>\n",
       "      <td>13.0</td>\n",
       "    </tr>\n",
       "  </tbody>\n",
       "</table>\n",
       "</div>"
      ],
      "text/plain": [
       "         24개 암종별  성별     연령별      2019         2019.1\n",
       "0        24개 암종별  성별     연령별  발생자수 (명)  조발생률 (명/10만명)\n",
       "1  모든 암(C00-C96)   계       계    254718          496.2\n",
       "2  모든 암(C00-C96)   계    0-4세       406           21.3\n",
       "3  모든 암(C00-C96)   계    5-9세       220            9.5\n",
       "4  모든 암(C00-C96)   계  10-14세       300           13.0"
      ]
     },
     "execution_count": 4,
     "metadata": {},
     "output_type": "execute_result"
    }
   ],
   "source": [
    "df = pd.read_csv(\"../03/03_암발생자수_.csv\", encoding=\"cp949\")\n",
    "df.head()"
   ]
  },
  {
   "cell_type": "code",
   "execution_count": 6,
   "metadata": {},
   "outputs": [
    {
     "name": "stdout",
     "output_type": "stream",
     "text": [
      "<class 'pandas.core.frame.DataFrame'>\n",
      "RangeIndex: 1501 entries, 0 to 1500\n",
      "Data columns (total 5 columns):\n",
      " #   Column  Non-Null Count  Dtype \n",
      "---  ------  --------------  ----- \n",
      " 0   암종별     1501 non-null   object\n",
      " 1   성별      1501 non-null   object\n",
      " 2   연령별     1501 non-null   object\n",
      " 3   발생자수    1501 non-null   object\n",
      " 4   조발생률    1501 non-null   object\n",
      "dtypes: object(5)\n",
      "memory usage: 58.8+ KB\n"
     ]
    }
   ],
   "source": [
    "df.columns = [\"암종별\", \"성별\", \"연령별\", \"발생자수\", \"조발생률\"]\n",
    "df.info()"
   ]
  },
  {
   "cell_type": "code",
   "execution_count": 10,
   "metadata": {},
   "outputs": [
    {
     "data": {
      "text/plain": [
       "'24개 암종별'"
      ]
     },
     "execution_count": 10,
     "metadata": {},
     "output_type": "execute_result"
    }
   ],
   "source": [
    "#행 열 조회(loc)\n",
    "df.loc[0,'암종별']"
   ]
  },
  {
   "cell_type": "code",
   "execution_count": 11,
   "metadata": {},
   "outputs": [
    {
     "data": {
      "text/plain": [
       "'24개 암종별'"
      ]
     },
     "execution_count": 11,
     "metadata": {},
     "output_type": "execute_result"
    }
   ],
   "source": [
    "#행 열 조회(iloc)\n",
    "df.iloc[0,0]"
   ]
  },
  {
   "cell_type": "code",
   "execution_count": 13,
   "metadata": {},
   "outputs": [],
   "source": [
    "#1번 행 제거\n",
    "df = df.loc[1:,:]"
   ]
  },
  {
   "cell_type": "code",
   "execution_count": 15,
   "metadata": {},
   "outputs": [
    {
     "data": {
      "text/html": [
       "<div>\n",
       "<style scoped>\n",
       "    .dataframe tbody tr th:only-of-type {\n",
       "        vertical-align: middle;\n",
       "    }\n",
       "\n",
       "    .dataframe tbody tr th {\n",
       "        vertical-align: top;\n",
       "    }\n",
       "\n",
       "    .dataframe thead th {\n",
       "        text-align: right;\n",
       "    }\n",
       "</style>\n",
       "<table border=\"1\" class=\"dataframe\">\n",
       "  <thead>\n",
       "    <tr style=\"text-align: right;\">\n",
       "      <th></th>\n",
       "      <th>암종별</th>\n",
       "      <th>발생자수</th>\n",
       "    </tr>\n",
       "  </thead>\n",
       "  <tbody>\n",
       "    <tr>\n",
       "      <th>1</th>\n",
       "      <td>모든 암(C00-C96)</td>\n",
       "      <td>254718</td>\n",
       "    </tr>\n",
       "    <tr>\n",
       "      <th>3</th>\n",
       "      <td>모든 암(C00-C96)</td>\n",
       "      <td>220</td>\n",
       "    </tr>\n",
       "  </tbody>\n",
       "</table>\n",
       "</div>"
      ],
      "text/plain": [
       "             암종별    발생자수\n",
       "1  모든 암(C00-C96)  254718\n",
       "3  모든 암(C00-C96)     220"
      ]
     },
     "execution_count": 15,
     "metadata": {},
     "output_type": "execute_result"
    }
   ],
   "source": [
    "#특정 행, 열 자료 추출\n",
    "df.loc[[1,3],['암종별','발생자수']]"
   ]
  },
  {
   "cell_type": "code",
   "execution_count": 14,
   "metadata": {},
   "outputs": [
    {
     "data": {
      "text/plain": [
       "1           모든 암(C00-C96)\n",
       "2           모든 암(C00-C96)\n",
       "3           모든 암(C00-C96)\n",
       "4           모든 암(C00-C96)\n",
       "5           모든 암(C00-C96)\n",
       "              ...        \n",
       "1496    기타 암(Re. C00-C96)\n",
       "1497    기타 암(Re. C00-C96)\n",
       "1498    기타 암(Re. C00-C96)\n",
       "1499    기타 암(Re. C00-C96)\n",
       "1500    기타 암(Re. C00-C96)\n",
       "Name: 암종별, Length: 1500, dtype: object"
      ]
     },
     "execution_count": 14,
     "metadata": {},
     "output_type": "execute_result"
    }
   ],
   "source": [
    "#특정 변수 조회\n",
    "df['암종별']"
   ]
  },
  {
   "cell_type": "code",
   "execution_count": 16,
   "metadata": {},
   "outputs": [],
   "source": [
    "import numpy as np"
   ]
  },
  {
   "cell_type": "code",
   "execution_count": 18,
   "metadata": {},
   "outputs": [],
   "source": [
    "#특정 값 변경\n",
    "#ifelse = np.where\n",
    "df['발생자수'] = np.where(df['발생자수'] == \"-\", 0, df['발생자수'])\n",
    "df['조발생률'] = np.where(df['조발생률'] == \"-\", 0, df['조발생률'])"
   ]
  },
  {
   "cell_type": "code",
   "execution_count": null,
   "metadata": {},
   "outputs": [],
   "source": [
    "#np.where 말고 다른 방법(replace는 문자열만 할 수 있음('0' 말고 0 은 안됨))\n",
    "##데이터타입 변경까지 같이\n",
    "# temp = list(df['발생자수'])\n",
    "# temp = [int(s.replace('-', '0')) for s in temp]\n",
    "# df['발생자수'] = temp\n",
    "\n",
    "# temp2 = list(df['조발생률'])\n",
    "# temp2 = [float(s.replace('-', '0')) for s in temp2]\n",
    "# df['조발생률'] = temp2\n",
    "\n",
    "#함수로 만들기\n",
    "# def funCol(col, df):\n",
    "#   temp = list(df[col])\n",
    "#   temp = [float(s.replace('-', '0')) for s in temp]\n",
    "#   df[col] = temp\n",
    "#함수 사용\n",
    "# for c in ['발생자수','조발생률']:\n",
    "#   funCol(c, df)"
   ]
  },
  {
   "cell_type": "code",
   "execution_count": 21,
   "metadata": {},
   "outputs": [],
   "source": [
    "#데이터 타입 변경1 (int를 문자열로 줘야함)\n",
    "df['발생자수'] = df['발생자수'].astype('int')"
   ]
  },
  {
   "cell_type": "code",
   "execution_count": 23,
   "metadata": {},
   "outputs": [],
   "source": [
    "#데이터 타입 변경2 (자기가 알아서 int, float 구별해서 변경)\n",
    "df['조발생률'] = pd.to_numeric(df['조발생률'])"
   ]
  },
  {
   "cell_type": "code",
   "execution_count": 25,
   "metadata": {},
   "outputs": [
    {
     "name": "stdout",
     "output_type": "stream",
     "text": [
      "<class 'pandas.core.frame.DataFrame'>\n",
      "RangeIndex: 1500 entries, 1 to 1500\n",
      "Data columns (total 5 columns):\n",
      " #   Column  Non-Null Count  Dtype  \n",
      "---  ------  --------------  -----  \n",
      " 0   암종별     1500 non-null   object \n",
      " 1   성별      1500 non-null   object \n",
      " 2   연령별     1500 non-null   object \n",
      " 3   발생자수    1500 non-null   int32  \n",
      " 4   조발생률    1500 non-null   float64\n",
      "dtypes: float64(1), int32(1), object(3)\n",
      "memory usage: 52.9+ KB\n"
     ]
    }
   ],
   "source": [
    "df.info()"
   ]
  },
  {
   "cell_type": "code",
   "execution_count": null,
   "metadata": {},
   "outputs": [],
   "source": [
    "#암종류\n",
    "lt = list(df['암종별'].unique())\n",
    "lt = [s[-3:-1] for s in lt]\n",
    "lt"
   ]
  },
  {
   "cell_type": "code",
   "execution_count": null,
   "metadata": {},
   "outputs": [],
   "source": [
    "lt = [int(s) for s in lt]\n",
    "lt"
   ]
  },
  {
   "cell_type": "code",
   "execution_count": 53,
   "metadata": {},
   "outputs": [
    {
     "data": {
      "text/html": [
       "<div>\n",
       "<style scoped>\n",
       "    .dataframe tbody tr th:only-of-type {\n",
       "        vertical-align: middle;\n",
       "    }\n",
       "\n",
       "    .dataframe tbody tr th {\n",
       "        vertical-align: top;\n",
       "    }\n",
       "\n",
       "    .dataframe thead th {\n",
       "        text-align: right;\n",
       "    }\n",
       "</style>\n",
       "<table border=\"1\" class=\"dataframe\">\n",
       "  <thead>\n",
       "    <tr style=\"text-align: right;\">\n",
       "      <th></th>\n",
       "      <th>연령별</th>\n",
       "      <th>발생자수</th>\n",
       "    </tr>\n",
       "  </thead>\n",
       "  <tbody>\n",
       "    <tr>\n",
       "      <th>2</th>\n",
       "      <td>0-4세</td>\n",
       "      <td>406</td>\n",
       "    </tr>\n",
       "    <tr>\n",
       "      <th>3</th>\n",
       "      <td>5-9세</td>\n",
       "      <td>220</td>\n",
       "    </tr>\n",
       "    <tr>\n",
       "      <th>4</th>\n",
       "      <td>10-14세</td>\n",
       "      <td>300</td>\n",
       "    </tr>\n",
       "    <tr>\n",
       "      <th>5</th>\n",
       "      <td>15-19세</td>\n",
       "      <td>583</td>\n",
       "    </tr>\n",
       "    <tr>\n",
       "      <th>6</th>\n",
       "      <td>20-24세</td>\n",
       "      <td>1344</td>\n",
       "    </tr>\n",
       "    <tr>\n",
       "      <th>7</th>\n",
       "      <td>25-29세</td>\n",
       "      <td>2896</td>\n",
       "    </tr>\n",
       "    <tr>\n",
       "      <th>8</th>\n",
       "      <td>30-34세</td>\n",
       "      <td>4652</td>\n",
       "    </tr>\n",
       "    <tr>\n",
       "      <th>9</th>\n",
       "      <td>35-39세</td>\n",
       "      <td>8845</td>\n",
       "    </tr>\n",
       "    <tr>\n",
       "      <th>10</th>\n",
       "      <td>40-44세</td>\n",
       "      <td>12427</td>\n",
       "    </tr>\n",
       "    <tr>\n",
       "      <th>11</th>\n",
       "      <td>45-49세</td>\n",
       "      <td>17759</td>\n",
       "    </tr>\n",
       "    <tr>\n",
       "      <th>12</th>\n",
       "      <td>50-54세</td>\n",
       "      <td>22061</td>\n",
       "    </tr>\n",
       "    <tr>\n",
       "      <th>13</th>\n",
       "      <td>55-59세</td>\n",
       "      <td>28454</td>\n",
       "    </tr>\n",
       "    <tr>\n",
       "      <th>14</th>\n",
       "      <td>60-64세</td>\n",
       "      <td>33079</td>\n",
       "    </tr>\n",
       "    <tr>\n",
       "      <th>15</th>\n",
       "      <td>65-69세</td>\n",
       "      <td>29031</td>\n",
       "    </tr>\n",
       "    <tr>\n",
       "      <th>16</th>\n",
       "      <td>70-74세</td>\n",
       "      <td>29796</td>\n",
       "    </tr>\n",
       "    <tr>\n",
       "      <th>17</th>\n",
       "      <td>75-79세</td>\n",
       "      <td>29324</td>\n",
       "    </tr>\n",
       "    <tr>\n",
       "      <th>18</th>\n",
       "      <td>80-84세</td>\n",
       "      <td>20664</td>\n",
       "    </tr>\n",
       "    <tr>\n",
       "      <th>19</th>\n",
       "      <td>85세이상</td>\n",
       "      <td>12874</td>\n",
       "    </tr>\n",
       "    <tr>\n",
       "      <th>20</th>\n",
       "      <td>연령미상</td>\n",
       "      <td>3</td>\n",
       "    </tr>\n",
       "  </tbody>\n",
       "</table>\n",
       "</div>"
      ],
      "text/plain": [
       "       연령별   발생자수\n",
       "2     0-4세    406\n",
       "3     5-9세    220\n",
       "4   10-14세    300\n",
       "5   15-19세    583\n",
       "6   20-24세   1344\n",
       "7   25-29세   2896\n",
       "8   30-34세   4652\n",
       "9   35-39세   8845\n",
       "10  40-44세  12427\n",
       "11  45-49세  17759\n",
       "12  50-54세  22061\n",
       "13  55-59세  28454\n",
       "14  60-64세  33079\n",
       "15  65-69세  29031\n",
       "16  70-74세  29796\n",
       "17  75-79세  29324\n",
       "18  80-84세  20664\n",
       "19   85세이상  12874\n",
       "20    연령미상      3"
      ]
     },
     "execution_count": 53,
     "metadata": {},
     "output_type": "execute_result"
    }
   ],
   "source": [
    "df1 = df[(df['암종별'] == '모든 암(C00-C96)') & (df['연령별'] != '계') & (df['성별'] == '계')][['연령별','발생자수']]\n",
    "df1"
   ]
  },
  {
   "cell_type": "code",
   "execution_count": 54,
   "metadata": {},
   "outputs": [
    {
     "data": {
      "image/png": "[encoded data removed]",
      "text/plain": [
       "<Figure size 640x480 with 1 Axes>"
      ]
     },
     "metadata": {},
     "output_type": "display_data"
    }
   ],
   "source": [
    "df1.plot()\n",
    "plt.show()"
   ]
  },
  {
   "cell_type": "code",
   "execution_count": 70,
   "metadata": {},
   "outputs": [
    {
     "data": {
      "text/html": [
       "<div>\n",
       "<style scoped>\n",
       "    .dataframe tbody tr th:only-of-type {\n",
       "        vertical-align: middle;\n",
       "    }\n",
       "\n",
       "    .dataframe tbody tr th {\n",
       "        vertical-align: top;\n",
       "    }\n",
       "\n",
       "    .dataframe thead th {\n",
       "        text-align: right;\n",
       "    }\n",
       "</style>\n",
       "<table border=\"1\" class=\"dataframe\">\n",
       "  <thead>\n",
       "    <tr style=\"text-align: right;\">\n",
       "      <th></th>\n",
       "      <th>암종별</th>\n",
       "      <th>성별</th>\n",
       "      <th>연령별</th>\n",
       "      <th>발생자수</th>\n",
       "      <th>조발생률</th>\n",
       "    </tr>\n",
       "  </thead>\n",
       "  <tbody>\n",
       "    <tr>\n",
       "      <th>82</th>\n",
       "      <td>입술, 구강 및 인두(C00-C14)</td>\n",
       "      <td>남자</td>\n",
       "      <td>0-4세</td>\n",
       "      <td>0</td>\n",
       "      <td>0.0</td>\n",
       "    </tr>\n",
       "    <tr>\n",
       "      <th>83</th>\n",
       "      <td>입술, 구강 및 인두(C00-C14)</td>\n",
       "      <td>남자</td>\n",
       "      <td>5-9세</td>\n",
       "      <td>1</td>\n",
       "      <td>0.1</td>\n",
       "    </tr>\n",
       "    <tr>\n",
       "      <th>84</th>\n",
       "      <td>입술, 구강 및 인두(C00-C14)</td>\n",
       "      <td>남자</td>\n",
       "      <td>10-14세</td>\n",
       "      <td>3</td>\n",
       "      <td>0.3</td>\n",
       "    </tr>\n",
       "    <tr>\n",
       "      <th>85</th>\n",
       "      <td>입술, 구강 및 인두(C00-C14)</td>\n",
       "      <td>남자</td>\n",
       "      <td>15-19세</td>\n",
       "      <td>7</td>\n",
       "      <td>0.5</td>\n",
       "    </tr>\n",
       "    <tr>\n",
       "      <th>86</th>\n",
       "      <td>입술, 구강 및 인두(C00-C14)</td>\n",
       "      <td>남자</td>\n",
       "      <td>20-24세</td>\n",
       "      <td>18</td>\n",
       "      <td>1.0</td>\n",
       "    </tr>\n",
       "    <tr>\n",
       "      <th>...</th>\n",
       "      <td>...</td>\n",
       "      <td>...</td>\n",
       "      <td>...</td>\n",
       "      <td>...</td>\n",
       "      <td>...</td>\n",
       "    </tr>\n",
       "    <tr>\n",
       "      <th>1496</th>\n",
       "      <td>기타 암(Re. C00-C96)</td>\n",
       "      <td>여자</td>\n",
       "      <td>70-74세</td>\n",
       "      <td>1096</td>\n",
       "      <td>107.6</td>\n",
       "    </tr>\n",
       "    <tr>\n",
       "      <th>1497</th>\n",
       "      <td>기타 암(Re. C00-C96)</td>\n",
       "      <td>여자</td>\n",
       "      <td>75-79세</td>\n",
       "      <td>1357</td>\n",
       "      <td>146.3</td>\n",
       "    </tr>\n",
       "    <tr>\n",
       "      <th>1498</th>\n",
       "      <td>기타 암(Re. C00-C96)</td>\n",
       "      <td>여자</td>\n",
       "      <td>80-84세</td>\n",
       "      <td>1420</td>\n",
       "      <td>212.1</td>\n",
       "    </tr>\n",
       "    <tr>\n",
       "      <th>1499</th>\n",
       "      <td>기타 암(Re. C00-C96)</td>\n",
       "      <td>여자</td>\n",
       "      <td>85세이상</td>\n",
       "      <td>1273</td>\n",
       "      <td>243.6</td>\n",
       "    </tr>\n",
       "    <tr>\n",
       "      <th>1500</th>\n",
       "      <td>기타 암(Re. C00-C96)</td>\n",
       "      <td>여자</td>\n",
       "      <td>연령미상</td>\n",
       "      <td>0</td>\n",
       "      <td>0.0</td>\n",
       "    </tr>\n",
       "  </tbody>\n",
       "</table>\n",
       "<p>912 rows × 5 columns</p>\n",
       "</div>"
      ],
      "text/plain": [
       "                       암종별  성별     연령별  발생자수   조발생률\n",
       "82    입술, 구강 및 인두(C00-C14)  남자    0-4세     0    0.0\n",
       "83    입술, 구강 및 인두(C00-C14)  남자    5-9세     1    0.1\n",
       "84    입술, 구강 및 인두(C00-C14)  남자  10-14세     3    0.3\n",
       "85    입술, 구강 및 인두(C00-C14)  남자  15-19세     7    0.5\n",
       "86    입술, 구강 및 인두(C00-C14)  남자  20-24세    18    1.0\n",
       "...                    ...  ..     ...   ...    ...\n",
       "1496     기타 암(Re. C00-C96)  여자  70-74세  1096  107.6\n",
       "1497     기타 암(Re. C00-C96)  여자  75-79세  1357  146.3\n",
       "1498     기타 암(Re. C00-C96)  여자  80-84세  1420  212.1\n",
       "1499     기타 암(Re. C00-C96)  여자   85세이상  1273  243.6\n",
       "1500     기타 암(Re. C00-C96)  여자    연령미상     0    0.0\n",
       "\n",
       "[912 rows x 5 columns]"
      ]
     },
     "execution_count": 70,
     "metadata": {},
     "output_type": "execute_result"
    }
   ],
   "source": [
    "df2 = df[(df['연령별'] != '계') & (df['암종별'] != '모든 암(C00-C96)') & (df['성별'] != '계')]\n",
    "df2"
   ]
  },
  {
   "cell_type": "code",
   "execution_count": 68,
   "metadata": {},
   "outputs": [
    {
     "data": {
      "text/html": [
       "<div>\n",
       "<style scoped>\n",
       "    .dataframe tbody tr th:only-of-type {\n",
       "        vertical-align: middle;\n",
       "    }\n",
       "\n",
       "    .dataframe tbody tr th {\n",
       "        vertical-align: top;\n",
       "    }\n",
       "\n",
       "    .dataframe thead th {\n",
       "        text-align: right;\n",
       "    }\n",
       "</style>\n",
       "<table border=\"1\" class=\"dataframe\">\n",
       "  <thead>\n",
       "    <tr style=\"text-align: right;\">\n",
       "      <th></th>\n",
       "      <th></th>\n",
       "      <th>발생자수</th>\n",
       "      <th>조발생률</th>\n",
       "    </tr>\n",
       "    <tr>\n",
       "      <th>암종별</th>\n",
       "      <th>성별</th>\n",
       "      <th></th>\n",
       "      <th></th>\n",
       "    </tr>\n",
       "  </thead>\n",
       "  <tbody>\n",
       "    <tr>\n",
       "      <th rowspan=\"3\" valign=\"top\">간(C22)</th>\n",
       "      <th>계</th>\n",
       "      <td>1560.5</td>\n",
       "      <td>38.390</td>\n",
       "    </tr>\n",
       "    <tr>\n",
       "      <th>남자</th>\n",
       "      <td>1154.1</td>\n",
       "      <td>62.285</td>\n",
       "    </tr>\n",
       "    <tr>\n",
       "      <th>여자</th>\n",
       "      <td>406.4</td>\n",
       "      <td>20.675</td>\n",
       "    </tr>\n",
       "    <tr>\n",
       "      <th rowspan=\"2\" valign=\"top\">갑상선(C73)</th>\n",
       "      <th>계</th>\n",
       "      <td>3067.6</td>\n",
       "      <td>47.030</td>\n",
       "    </tr>\n",
       "    <tr>\n",
       "      <th>남자</th>\n",
       "      <td>751.6</td>\n",
       "      <td>23.515</td>\n",
       "    </tr>\n",
       "    <tr>\n",
       "      <th>...</th>\n",
       "      <th>...</th>\n",
       "      <td>...</td>\n",
       "      <td>...</td>\n",
       "    </tr>\n",
       "    <tr>\n",
       "      <th rowspan=\"2\" valign=\"top\">호지킨 림프종(C81)</th>\n",
       "      <th>남자</th>\n",
       "      <td>18.1</td>\n",
       "      <td>0.680</td>\n",
       "    </tr>\n",
       "    <tr>\n",
       "      <th>여자</th>\n",
       "      <td>12.7</td>\n",
       "      <td>0.515</td>\n",
       "    </tr>\n",
       "    <tr>\n",
       "      <th rowspan=\"3\" valign=\"top\">후두(C32)</th>\n",
       "      <th>계</th>\n",
       "      <td>122.2</td>\n",
       "      <td>3.080</td>\n",
       "    </tr>\n",
       "    <tr>\n",
       "      <th>남자</th>\n",
       "      <td>115.4</td>\n",
       "      <td>6.975</td>\n",
       "    </tr>\n",
       "    <tr>\n",
       "      <th>여자</th>\n",
       "      <td>6.8</td>\n",
       "      <td>0.345</td>\n",
       "    </tr>\n",
       "  </tbody>\n",
       "</table>\n",
       "<p>75 rows × 2 columns</p>\n",
       "</div>"
      ],
      "text/plain": [
       "                   발생자수    조발생률\n",
       "암종별          성별                \n",
       "간(C22)       계   1560.5  38.390\n",
       "             남자  1154.1  62.285\n",
       "             여자   406.4  20.675\n",
       "갑상선(C73)     계   3067.6  47.030\n",
       "             남자   751.6  23.515\n",
       "...                 ...     ...\n",
       "호지킨 림프종(C81) 남자    18.1   0.680\n",
       "             여자    12.7   0.515\n",
       "후두(C32)      계    122.2   3.080\n",
       "             남자   115.4   6.975\n",
       "             여자     6.8   0.345\n",
       "\n",
       "[75 rows x 2 columns]"
      ]
     },
     "execution_count": 68,
     "metadata": {},
     "output_type": "execute_result"
    }
   ],
   "source": [
    "df2.groupby(['암종별','성별']).mean()[['발생자수','조발생률']]"
   ]
  },
  {
   "cell_type": "code",
   "execution_count": 77,
   "metadata": {},
   "outputs": [
    {
     "data": {
      "image/png": "[encoded data removed]",
      "text/plain": [
       "<Figure size 2000x1000 with 1 Axes>"
      ]
     },
     "metadata": {},
     "output_type": "display_data"
    }
   ],
   "source": [
    "#seabone에서는 자동으로 평균 내줌\n",
    "plt.figure(figsize=(20,10))\n",
    "sns.barplot(x='암종별', y='발생자수', hue='성별', data=df2)\n",
    "plt.title(\"암종별 남녀 발생자수 현황\", fontsize = 20)\n",
    "plt.xticks(rotation=90)\n",
    "plt.show()"
   ]
  }
 ],
 "metadata": {
  "kernelspec": {
   "display_name": "base",
   "language": "python",
   "name": "python3"
  },
  "language_info": {
   "codemirror_mode": {
    "name": "ipython",
    "version": 3
   },
   "file_extension": ".py",
   "mimetype": "text/x-python",
   "name": "python",
   "nbconvert_exporter": "python",
   "pygments_lexer": "ipython3",
   "version": "3.9.13 (main, Aug 25 2022, 23:51:50) [MSC v.1916 64 bit (AMD64)]"
  },
  "orig_nbformat": 4,
  "vscode": {
   "interpreter": {
    "hash": "ad2bdc8ecc057115af97d19610ffacc2b4e99fae6737bb82f5d7fb13d2f2c186"
   }
  }
 },
 "nbformat": 4,
 "nbformat_minor": 2
}
